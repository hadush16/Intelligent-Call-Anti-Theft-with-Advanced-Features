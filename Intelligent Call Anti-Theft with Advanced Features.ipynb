{
  "nbformat": 4,
  "nbformat_minor": 0,
  "metadata": {
    "colab": {
      "provenance": [],
      "toc_visible": true,
      "authorship_tag": "ABX9TyPM4eLnpHlvu+5VRtI+gmOR",
      "include_colab_link": true
    },
    "kernelspec": {
      "name": "python3",
      "display_name": "Python 3"
    },
    "language_info": {
      "name": "python"
    }
  },
  "cells": [
    {
      "cell_type": "markdown",
      "metadata": {
        "id": "view-in-github",
        "colab_type": "text"
      },
      "source": [
        "<a href=\"https://colab.research.google.com/github/hadush16/Intelligent-Call-Anti-Theft-with-Advanced-Features/blob/main/Intelligent%20Call%20Anti-Theft%20with%20Advanced%20Features.ipynb\" target=\"_parent\"><img src=\"https://colab.research.google.com/assets/colab-badge.svg\" alt=\"Open In Colab\"/></a>"
      ]
    },
    {
      "cell_type": "code",
      "execution_count": 1,
      "metadata": {
        "colab": {
          "base_uri": "https://localhost:8080/"
        },
        "id": "g9O-IT8r8xae",
        "outputId": "3aee3743-ed69-4d72-eb28-d41185cfdcc3"
      },
      "outputs": [
        {
          "output_type": "stream",
          "name": "stdout",
          "text": [
            "Collecting face_recognition\n",
            "  Downloading face_recognition-1.3.0-py2.py3-none-any.whl.metadata (21 kB)\n",
            "Collecting face-recognition-models>=0.3.0 (from face_recognition)\n",
            "  Downloading face_recognition_models-0.3.0.tar.gz (100.1 MB)\n",
            "\u001b[2K     \u001b[90m━━━━━━━━━━━━━━━━━━━━━━━━━━━━━━━━━━━━━━━\u001b[0m \u001b[32m100.1/100.1 MB\u001b[0m \u001b[31m8.9 MB/s\u001b[0m eta \u001b[36m0:00:00\u001b[0m\n",
            "\u001b[?25h  Preparing metadata (setup.py) ... \u001b[?25l\u001b[?25hdone\n",
            "Requirement already satisfied: Click>=6.0 in /usr/local/lib/python3.11/dist-packages (from face_recognition) (8.1.8)\n",
            "Requirement already satisfied: dlib>=19.7 in /usr/local/lib/python3.11/dist-packages (from face_recognition) (19.24.6)\n",
            "Requirement already satisfied: numpy in /usr/local/lib/python3.11/dist-packages (from face_recognition) (2.0.2)\n",
            "Requirement already satisfied: Pillow in /usr/local/lib/python3.11/dist-packages (from face_recognition) (11.2.1)\n",
            "Downloading face_recognition-1.3.0-py2.py3-none-any.whl (15 kB)\n",
            "Building wheels for collected packages: face-recognition-models\n",
            "  Building wheel for face-recognition-models (setup.py) ... \u001b[?25l\u001b[?25hdone\n",
            "  Created wheel for face-recognition-models: filename=face_recognition_models-0.3.0-py2.py3-none-any.whl size=100566166 sha256=f2820c1ed86a7791e721bf8e1be6e9124e5da97bfe96c82add15bd16ed59da31\n",
            "  Stored in directory: /root/.cache/pip/wheels/04/52/ec/9355da79c29f160b038a20c784db2803c2f9fa2c8a462c176a\n",
            "Successfully built face-recognition-models\n",
            "Installing collected packages: face-recognition-models, face_recognition\n",
            "Successfully installed face-recognition-models-0.3.0 face_recognition-1.3.0\n",
            "Requirement already satisfied: opencv-python in /usr/local/lib/python3.11/dist-packages (4.11.0.86)\n",
            "Requirement already satisfied: numpy>=1.21.2 in /usr/local/lib/python3.11/dist-packages (from opencv-python) (2.0.2)\n"
          ]
        }
      ],
      "source": [
        "!pip install face_recognition\n",
        "!pip install opencv-python\n"
      ]
    },
    {
      "cell_type": "code",
      "source": [
        "from google.colab import files\n",
        "uploaded = files.upload()  # Upload dataset.zip\n",
        "\n",
        "import zipfile\n",
        "import os\n",
        "\n",
        "with zipfile.ZipFile(\"dataset.zip\", 'r') as zip_ref:\n",
        "    zip_ref.extractall(\"dataset\")\n",
        "\n",
        "print(\"✅ Dataset extracted\")\n"
      ],
      "metadata": {
        "id": "5PvDi5OZ9NS_"
      },
      "execution_count": null,
      "outputs": []
    },
    {
      "cell_type": "code",
      "source": [
        "import face_recognition\n",
        "import os\n",
        "import pickle\n",
        "\n",
        "dataset_dir = \"dataset\"\n",
        "encodings_file = \"encodings.pickle\"\n",
        "\n",
        "known_encodings = []\n",
        "known_names = []\n",
        "\n",
        "for person_name in os.listdir(dataset_dir):\n",
        "    person_path = os.path.join(dataset_dir, person_name)\n",
        "    if not os.path.isdir(person_path):\n",
        "        continue\n",
        "\n",
        "    for image_name in os.listdir(person_path):\n",
        "        image_path = os.path.join(person_path, image_name)\n",
        "        image = face_recognition.load_image_file(image_path)\n",
        "        encodings = face_recognition.face_encodings(image)\n",
        "\n",
        "        if encodings:\n",
        "            known_encodings.append(encodings[0])\n",
        "            known_names.append(person_name)\n",
        "        else:\n",
        "            print(f\"⚠️ No face found in {image_path}\")\n",
        "\n",
        "# Save encodings\n",
        "data = {\"encodings\": known_encodings, \"names\": known_names}\n",
        "with open(encodings_file, \"wb\") as f:\n",
        "    pickle.dump(data, f)\n",
        "\n",
        "print(\"✅ Training complete. Model saved.\")\n"
      ],
      "metadata": {
        "id": "co7ApE0r9QpJ"
      },
      "execution_count": null,
      "outputs": []
    }
  ]
}